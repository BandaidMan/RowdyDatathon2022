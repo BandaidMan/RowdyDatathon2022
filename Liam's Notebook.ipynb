{
 "cells": [
  {
   "cell_type": "code",
   "execution_count": 328,
   "id": "27116466",
   "metadata": {},
   "outputs": [
    {
     "name": "stderr",
     "output_type": "stream",
     "text": [
      "C:\\Users\\rliam\\AppData\\Local\\Temp\\ipykernel_2996\\1042970739.py:18: DeprecationWarning: Please use `pearsonr` from the `scipy.stats` namespace, the `scipy.stats.stats` namespace is deprecated.\n",
      "  from scipy.stats.stats import pearsonr\n"
     ]
    }
   ],
   "source": [
    "import csv\n",
    "import pandas as pd\n",
    "from csv import reader\n",
    "import time\n",
    "from matplotlib import pyplot as plt\n",
    "from configparser import ConfigParser\n",
    "from pandas_profiling import ProfileReport\n",
    "from datetime import datetime\n",
    "import random\n",
    "from sklearn.linear_model import LogisticRegression\n",
    "from sklearn.metrics import classification_report\n",
    "from sklearn import metrics\n",
    "import numpy as np\n",
    "from sklearn import preprocessing\n",
    "from sklearn.model_selection import train_test_split\n",
    "import seaborn as sns\n",
    "from sklearn import linear_model\n",
    "from scipy.stats.stats import pearsonr \n",
    "from matplotlib.pyplot import figure"
   ]
  },
  {
   "cell_type": "code",
   "execution_count": 329,
   "id": "427e6413",
   "metadata": {},
   "outputs": [],
   "source": [
    "file = r'C:\\Users\\rliam\\Downloads\\US1969-1986 (2)\\Natality.csv'"
   ]
  },
  {
   "cell_type": "code",
   "execution_count": 330,
   "id": "c7b1e4f4",
   "metadata": {},
   "outputs": [
    {
     "name": "stderr",
     "output_type": "stream",
     "text": [
      "C:\\Users\\rliam\\AppData\\Local\\Temp\\ipykernel_2996\\673787785.py:1: DtypeWarning: Columns (1,6,38,39,40,41,54,56,69,75,76,77,78,79,80,81,82,83,85,86,87,88,89,90,92) have mixed types. Specify dtype option on import or set low_memory=False.\n",
      "  df = pd.read_csv(r'C:\\Users\\rliam\\Desktop\\project\\sampled_data.csv')\n"
     ]
    }
   ],
   "source": [
    "df = pd.read_csv(r'C:\\Users\\rliam\\Desktop\\project\\sampled_data.csv')"
   ]
  },
  {
   "cell_type": "code",
   "execution_count": 331,
   "id": "bcf26586",
   "metadata": {},
   "outputs": [],
   "source": [
    "with open('correlation_table.csv', 'w') as csv_file:\n",
    "    csv_writer = csv.writer(csv_file)\n",
    "    headers = [key for key in df.keys()]\n",
    "    csv_writer.writerow(headers)\n",
    "    csv_writer.writerows(df.corr())\n",
    "    csv_file.close()"
   ]
  },
  {
   "cell_type": "code",
   "execution_count": 332,
   "id": "6269ed02",
   "metadata": {},
   "outputs": [],
   "source": [
    "#coorelation_table = df.corr()"
   ]
  },
  {
   "cell_type": "code",
   "execution_count": 333,
   "id": "47e65f78",
   "metadata": {},
   "outputs": [],
   "source": [
    "#coorelation_table.to_csv('coorelation_table.csv')"
   ]
  },
  {
   "cell_type": "code",
   "execution_count": 334,
   "id": "c621a28d",
   "metadata": {},
   "outputs": [
    {
     "data": {
      "text/html": [
       "<div>\n",
       "<style scoped>\n",
       "    .dataframe tbody tr th:only-of-type {\n",
       "        vertical-align: middle;\n",
       "    }\n",
       "\n",
       "    .dataframe tbody tr th {\n",
       "        vertical-align: top;\n",
       "    }\n",
       "\n",
       "    .dataframe thead th {\n",
       "        text-align: right;\n",
       "    }\n",
       "</style>\n",
       "<table border=\"1\" class=\"dataframe\">\n",
       "  <thead>\n",
       "    <tr style=\"text-align: right;\">\n",
       "      <th></th>\n",
       "      <th>DT_YEAR</th>\n",
       "      <th>ID_STATE</th>\n",
       "      <th>ID_AREA</th>\n",
       "      <th>ID_CERT</th>\n",
       "      <th>IN_RESIDENT</th>\n",
       "      <th>ID_RES_STATUS</th>\n",
       "      <th>ID_RESIDENCE</th>\n",
       "      <th>ID_OCCURENCE</th>\n",
       "      <th>ID_SEX</th>\n",
       "      <th>ID_ATTENDANT</th>\n",
       "      <th>...</th>\n",
       "      <th>AM_POST_FULL_DOB</th>\n",
       "      <th>AM_LUNAR_MONTH_DOB</th>\n",
       "      <th>DT_DOB</th>\n",
       "      <th>id</th>\n",
       "      <th>State</th>\n",
       "      <th>County</th>\n",
       "      <th>County FIPS</th>\n",
       "      <th>GHIAnnual</th>\n",
       "      <th>nchs_state</th>\n",
       "      <th>nchs_county</th>\n",
       "    </tr>\n",
       "  </thead>\n",
       "  <tbody>\n",
       "    <tr>\n",
       "      <th>501807</th>\n",
       "      <td>1969</td>\n",
       "      <td></td>\n",
       "      <td>0</td>\n",
       "      <td></td>\n",
       "      <td>1</td>\n",
       "      <td>1</td>\n",
       "      <td>390420000000000.0</td>\n",
       "      <td>3904123</td>\n",
       "      <td>2</td>\n",
       "      <td>1</td>\n",
       "      <td>...</td>\n",
       "      <td>28</td>\n",
       "      <td>12</td>\n",
       "      <td>1/1/1969</td>\n",
       "      <td>55315258</td>\n",
       "      <td>Pennsylvania</td>\n",
       "      <td>Lycoming</td>\n",
       "      <td>42081.0</td>\n",
       "      <td>3.778660</td>\n",
       "      <td>39.0</td>\n",
       "      <td>41.0</td>\n",
       "    </tr>\n",
       "    <tr>\n",
       "      <th>337517</th>\n",
       "      <td>1969</td>\n",
       "      <td></td>\n",
       "      <td>0</td>\n",
       "      <td></td>\n",
       "      <td>2</td>\n",
       "      <td>2</td>\n",
       "      <td>472140000000000.0</td>\n",
       "      <td>4731854</td>\n",
       "      <td>2</td>\n",
       "      <td>1</td>\n",
       "      <td>...</td>\n",
       "      <td>28</td>\n",
       "      <td>12</td>\n",
       "      <td>1/1/1969</td>\n",
       "      <td>52867794</td>\n",
       "      <td>NaN</td>\n",
       "      <td>NaN</td>\n",
       "      <td>NaN</td>\n",
       "      <td>NaN</td>\n",
       "      <td>NaN</td>\n",
       "      <td>NaN</td>\n",
       "    </tr>\n",
       "    <tr>\n",
       "      <th>6185</th>\n",
       "      <td>1969</td>\n",
       "      <td></td>\n",
       "      <td>0</td>\n",
       "      <td></td>\n",
       "      <td>1</td>\n",
       "      <td>1</td>\n",
       "      <td>50310000000000.0</td>\n",
       "      <td>503093</td>\n",
       "      <td>2</td>\n",
       "      <td>1</td>\n",
       "      <td>...</td>\n",
       "      <td>28</td>\n",
       "      <td>12</td>\n",
       "      <td>1/1/1969</td>\n",
       "      <td>55150357</td>\n",
       "      <td>California</td>\n",
       "      <td>Orange</td>\n",
       "      <td>6059.0</td>\n",
       "      <td>5.202893</td>\n",
       "      <td>5.0</td>\n",
       "      <td>30.0</td>\n",
       "    </tr>\n",
       "    <tr>\n",
       "      <th>24797</th>\n",
       "      <td>1969</td>\n",
       "      <td></td>\n",
       "      <td>0</td>\n",
       "      <td></td>\n",
       "      <td>1</td>\n",
       "      <td>1</td>\n",
       "      <td>60220000000000.0</td>\n",
       "      <td>602184</td>\n",
       "      <td>2</td>\n",
       "      <td>1</td>\n",
       "      <td>...</td>\n",
       "      <td>28</td>\n",
       "      <td>12</td>\n",
       "      <td>1/1/1969</td>\n",
       "      <td>56376802</td>\n",
       "      <td>Colorado</td>\n",
       "      <td>El Paso</td>\n",
       "      <td>8041.0</td>\n",
       "      <td>4.955612</td>\n",
       "      <td>6.0</td>\n",
       "      <td>21.0</td>\n",
       "    </tr>\n",
       "    <tr>\n",
       "      <th>365465</th>\n",
       "      <td>1969</td>\n",
       "      <td></td>\n",
       "      <td>0</td>\n",
       "      <td></td>\n",
       "      <td>1</td>\n",
       "      <td>1</td>\n",
       "      <td>3.8021E+14</td>\n",
       "      <td>3802092</td>\n",
       "      <td>2</td>\n",
       "      <td>1</td>\n",
       "      <td>...</td>\n",
       "      <td>28</td>\n",
       "      <td>12</td>\n",
       "      <td>1/1/1969</td>\n",
       "      <td>55077591</td>\n",
       "      <td>Oregon</td>\n",
       "      <td>Lane</td>\n",
       "      <td>41039.0</td>\n",
       "      <td>3.937903</td>\n",
       "      <td>38.0</td>\n",
       "      <td>20.0</td>\n",
       "    </tr>\n",
       "    <tr>\n",
       "      <th>...</th>\n",
       "      <td>...</td>\n",
       "      <td>...</td>\n",
       "      <td>...</td>\n",
       "      <td>...</td>\n",
       "      <td>...</td>\n",
       "      <td>...</td>\n",
       "      <td>...</td>\n",
       "      <td>...</td>\n",
       "      <td>...</td>\n",
       "      <td>...</td>\n",
       "      <td>...</td>\n",
       "      <td>...</td>\n",
       "      <td>...</td>\n",
       "      <td>...</td>\n",
       "      <td>...</td>\n",
       "      <td>...</td>\n",
       "      <td>...</td>\n",
       "      <td>...</td>\n",
       "      <td>...</td>\n",
       "      <td>...</td>\n",
       "      <td>...</td>\n",
       "    </tr>\n",
       "    <tr>\n",
       "      <th>289937</th>\n",
       "      <td>1988</td>\n",
       "      <td>14</td>\n",
       "      <td>0</td>\n",
       "      <td></td>\n",
       "      <td>1</td>\n",
       "      <td>1</td>\n",
       "      <td>140170000000000.0</td>\n",
       "      <td>1401633</td>\n",
       "      <td>2</td>\n",
       "      <td>1</td>\n",
       "      <td>...</td>\n",
       "      <td>13</td>\n",
       "      <td>256</td>\n",
       "      <td>9/9/1988</td>\n",
       "      <td>1820873</td>\n",
       "      <td>Illinois</td>\n",
       "      <td>Cook</td>\n",
       "      <td>17031.0</td>\n",
       "      <td>3.874192</td>\n",
       "      <td>14.0</td>\n",
       "      <td>16.0</td>\n",
       "    </tr>\n",
       "    <tr>\n",
       "      <th>306310</th>\n",
       "      <td>1988</td>\n",
       "      <td>5</td>\n",
       "      <td>0</td>\n",
       "      <td></td>\n",
       "      <td>1</td>\n",
       "      <td>1</td>\n",
       "      <td>50191600000000.0</td>\n",
       "      <td>501993</td>\n",
       "      <td>2</td>\n",
       "      <td>1</td>\n",
       "      <td>...</td>\n",
       "      <td>13</td>\n",
       "      <td>256</td>\n",
       "      <td>9/9/1988</td>\n",
       "      <td>1426708</td>\n",
       "      <td>California</td>\n",
       "      <td>Los Angeles</td>\n",
       "      <td>6037.0</td>\n",
       "      <td>5.472199</td>\n",
       "      <td>5.0</td>\n",
       "      <td>19.0</td>\n",
       "    </tr>\n",
       "    <tr>\n",
       "      <th>64604</th>\n",
       "      <td>1988</td>\n",
       "      <td>14</td>\n",
       "      <td>0</td>\n",
       "      <td></td>\n",
       "      <td>2</td>\n",
       "      <td>2</td>\n",
       "      <td>141000000000000.0</td>\n",
       "      <td>1401633</td>\n",
       "      <td>2</td>\n",
       "      <td>1</td>\n",
       "      <td>...</td>\n",
       "      <td>13</td>\n",
       "      <td>256</td>\n",
       "      <td>9/9/1988</td>\n",
       "      <td>1827561</td>\n",
       "      <td>Illinois</td>\n",
       "      <td>Will</td>\n",
       "      <td>17197.0</td>\n",
       "      <td>3.887701</td>\n",
       "      <td>14.0</td>\n",
       "      <td>99.0</td>\n",
       "    </tr>\n",
       "    <tr>\n",
       "      <th>20478</th>\n",
       "      <td>1988</td>\n",
       "      <td>10</td>\n",
       "      <td>0</td>\n",
       "      <td></td>\n",
       "      <td>2</td>\n",
       "      <td>2</td>\n",
       "      <td>100360000000000.0</td>\n",
       "      <td>1004859</td>\n",
       "      <td>1</td>\n",
       "      <td>1</td>\n",
       "      <td>...</td>\n",
       "      <td>13</td>\n",
       "      <td>256</td>\n",
       "      <td>9/9/1988</td>\n",
       "      <td>1111501</td>\n",
       "      <td>Florida</td>\n",
       "      <td>Lake</td>\n",
       "      <td>12069.0</td>\n",
       "      <td>4.882679</td>\n",
       "      <td>10.0</td>\n",
       "      <td>35.0</td>\n",
       "    </tr>\n",
       "    <tr>\n",
       "      <th>277735</th>\n",
       "      <td>1988</td>\n",
       "      <td>32</td>\n",
       "      <td>0</td>\n",
       "      <td></td>\n",
       "      <td>1</td>\n",
       "      <td>1</td>\n",
       "      <td>320010000000000.0</td>\n",
       "      <td>3200185</td>\n",
       "      <td>2</td>\n",
       "      <td>1</td>\n",
       "      <td>...</td>\n",
       "      <td>13</td>\n",
       "      <td>256</td>\n",
       "      <td>9/9/1988</td>\n",
       "      <td>2561117</td>\n",
       "      <td>New Mexico</td>\n",
       "      <td>Bernalillo</td>\n",
       "      <td>35001.0</td>\n",
       "      <td>5.544877</td>\n",
       "      <td>32.0</td>\n",
       "      <td>1.0</td>\n",
       "    </tr>\n",
       "  </tbody>\n",
       "</table>\n",
       "<p>565453 rows × 106 columns</p>\n",
       "</div>"
      ],
      "text/plain": [
       "        DT_YEAR ID_STATE  ID_AREA ID_CERT  IN_RESIDENT  ID_RES_STATUS  \\\n",
       "501807     1969                 0                    1              1   \n",
       "337517     1969                 0                    2              2   \n",
       "6185       1969                 0                    1              1   \n",
       "24797      1969                 0                    1              1   \n",
       "365465     1969                 0                    1              1   \n",
       "...         ...      ...      ...     ...          ...            ...   \n",
       "289937     1988       14        0                    1              1   \n",
       "306310     1988        5        0                    1              1   \n",
       "64604      1988       14        0                    2              2   \n",
       "20478      1988       10        0                    2              2   \n",
       "277735     1988       32        0                    1              1   \n",
       "\n",
       "             ID_RESIDENCE  ID_OCCURENCE  ID_SEX  ID_ATTENDANT  ...  \\\n",
       "501807  390420000000000.0       3904123       2             1  ...   \n",
       "337517  472140000000000.0       4731854       2             1  ...   \n",
       "6185     50310000000000.0        503093       2             1  ...   \n",
       "24797    60220000000000.0        602184       2             1  ...   \n",
       "365465         3.8021E+14       3802092       2             1  ...   \n",
       "...                   ...           ...     ...           ...  ...   \n",
       "289937  140170000000000.0       1401633       2             1  ...   \n",
       "306310   50191600000000.0        501993       2             1  ...   \n",
       "64604   141000000000000.0       1401633       2             1  ...   \n",
       "20478   100360000000000.0       1004859       1             1  ...   \n",
       "277735  320010000000000.0       3200185       2             1  ...   \n",
       "\n",
       "        AM_POST_FULL_DOB  AM_LUNAR_MONTH_DOB    DT_DOB        id  \\\n",
       "501807                28                  12  1/1/1969  55315258   \n",
       "337517                28                  12  1/1/1969  52867794   \n",
       "6185                  28                  12  1/1/1969  55150357   \n",
       "24797                 28                  12  1/1/1969  56376802   \n",
       "365465                28                  12  1/1/1969  55077591   \n",
       "...                  ...                 ...       ...       ...   \n",
       "289937                13                 256  9/9/1988   1820873   \n",
       "306310                13                 256  9/9/1988   1426708   \n",
       "64604                 13                 256  9/9/1988   1827561   \n",
       "20478                 13                 256  9/9/1988   1111501   \n",
       "277735                13                 256  9/9/1988   2561117   \n",
       "\n",
       "               State       County  County FIPS  GHIAnnual  nchs_state  \\\n",
       "501807  Pennsylvania     Lycoming      42081.0   3.778660        39.0   \n",
       "337517           NaN          NaN          NaN        NaN         NaN   \n",
       "6185      California       Orange       6059.0   5.202893         5.0   \n",
       "24797       Colorado      El Paso       8041.0   4.955612         6.0   \n",
       "365465        Oregon         Lane      41039.0   3.937903        38.0   \n",
       "...              ...          ...          ...        ...         ...   \n",
       "289937      Illinois         Cook      17031.0   3.874192        14.0   \n",
       "306310    California  Los Angeles       6037.0   5.472199         5.0   \n",
       "64604       Illinois         Will      17197.0   3.887701        14.0   \n",
       "20478        Florida         Lake      12069.0   4.882679        10.0   \n",
       "277735    New Mexico   Bernalillo      35001.0   5.544877        32.0   \n",
       "\n",
       "        nchs_county  \n",
       "501807         41.0  \n",
       "337517          NaN  \n",
       "6185           30.0  \n",
       "24797          21.0  \n",
       "365465         20.0  \n",
       "...             ...  \n",
       "289937         16.0  \n",
       "306310         19.0  \n",
       "64604          99.0  \n",
       "20478          35.0  \n",
       "277735          1.0  \n",
       "\n",
       "[565453 rows x 106 columns]"
      ]
     },
     "execution_count": 334,
     "metadata": {},
     "output_type": "execute_result"
    }
   ],
   "source": [
    "df.sort_values(by=['DT_DOB'])"
   ]
  },
  {
   "cell_type": "code",
   "execution_count": 335,
   "id": "e1fa6123",
   "metadata": {},
   "outputs": [
    {
     "data": {
      "text/plain": [
       "<AxesSubplot:>"
      ]
     },
     "execution_count": 335,
     "metadata": {},
     "output_type": "execute_result"
    },
    {
     "data": {
      "image/png": "[encoded data removed]",
      "text/plain": [
       "<Figure size 432x288 with 1 Axes>"
      ]
     },
     "metadata": {
      "needs_background": "light"
     },
     "output_type": "display_data"
    }
   ],
   "source": [
    "df['AM_F_AGE'].plot()"
   ]
  },
  {
   "cell_type": "code",
   "execution_count": null,
   "id": "0ca65313",
   "metadata": {},
   "outputs": [],
   "source": []
  },
  {
   "cell_type": "code",
   "execution_count": 336,
   "id": "f5b15e31",
   "metadata": {},
   "outputs": [],
   "source": [
    "def time_series_graph(variable):\n",
    "    months = []\n",
    "    values = []\n",
    "    for year in range(1969, 1988):\n",
    "        for month in range(1, 12):\n",
    "            months.append(str(month) + \"/\" + str(year))\n",
    "    for year in range(1969, 1988):\n",
    "        for month in range(1, 12):\n",
    "            month_year = str(month) + '-' + str(year)\n",
    "            values.append(df[df['month_year'] == month_year][variable].mean())\n",
    "    plt.plot(values)\n",
    "    plt.xlabel('Months from January 1969')\n",
    "    plt.ylabel(variable)\n",
    "    figure(figsize=(8, 6), dpi=80)\n",
    "    plt.show()\n",
    "    \n",
    "    "
   ]
  },
  {
   "cell_type": "code",
   "execution_count": 337,
   "id": "16ebd54d",
   "metadata": {},
   "outputs": [],
   "source": [
    "def give_month_and_year(row):\n",
    "    date = row['DT_DOB']\n",
    "    return str(date[0:date.find('/')]) + date[3:][date[3:].find('/'):]"
   ]
  },
  {
   "cell_type": "code",
   "execution_count": 338,
   "id": "36fbd37c",
   "metadata": {},
   "outputs": [],
   "source": [
    "df['year'] = pd.DatetimeIndex(df['DT_DOB']).year\n",
    "df['month'] = pd.DatetimeIndex(df['DT_DOB']).month"
   ]
  },
  {
   "cell_type": "code",
   "execution_count": 339,
   "id": "b6284dd2",
   "metadata": {},
   "outputs": [],
   "source": [
    "df['month_year'] = df['month'].astype(str) + '-' + df['year'].astype(str)"
   ]
  },
  {
   "cell_type": "code",
   "execution_count": 340,
   "id": "131102d8",
   "metadata": {},
   "outputs": [],
   "source": [
    "df.index = df['id']\n",
    "df['var_1'] = df['AM_TOT_B_ORDER'] - (df['AM_CHILDREN _BASL'] + df['AM_CHILDREN_BAND'])"
   ]
  },
  {
   "cell_type": "code",
   "execution_count": 341,
   "id": "14d9361b",
   "metadata": {},
   "outputs": [
    {
     "data": {
      "image/png": "[encoded data removed]",
      "text/plain": [
       "<Figure size 432x288 with 1 Axes>"
      ]
     },
     "metadata": {
      "needs_background": "light"
     },
     "output_type": "display_data"
    }
   ],
   "source": [
    "fig = plt.figure()\n",
    "ax = fig.add_axes([0,0,1,1])\n",
    "bar_labels = ['1', '2', '3', '4']\n",
    "bar_heights = [df[df['var_1'] == 1]['var_1'].count(),\n",
    "              df[df['var_1'] == 2]['var_1'].count(),\n",
    "              df[df['var_1'] == 3]['var_1'].count(),\n",
    "              df[df['var_1'] == 4]['var_1'].count()]\n",
    "ax.bar(bar_labels,bar_heights)\n",
    "plt.show()"
   ]
  },
  {
   "cell_type": "code",
   "execution_count": 342,
   "id": "0effb44f",
   "metadata": {},
   "outputs": [
    {
     "data": {
      "image/png": "[encoded data removed]",
      "text/plain": [
       "<Figure size 432x288 with 1 Axes>"
      ]
     },
     "metadata": {
      "needs_background": "light"
     },
     "output_type": "display_data"
    }
   ],
   "source": [
    "fig = plt.figure()\n",
    "ax = fig.add_axes([0,0,1,1])\n",
    "bar_labels = ['1', '2', '3', '4', '5', '6', '7', '8']\n",
    "bar_heights = [df[df['AM_TOT_B_ORDER'] == 1]['AM_TOT_B_ORDER'].count(),\n",
    "              df[df['AM_TOT_B_ORDER'] == 2]['AM_TOT_B_ORDER'].count(),\n",
    "              df[df['AM_TOT_B_ORDER'] == 3]['AM_TOT_B_ORDER'].count(),\n",
    "              df[df['AM_TOT_B_ORDER'] == 4]['AM_TOT_B_ORDER'].count(),\n",
    "              df[df['AM_TOT_B_ORDER'] == 5]['AM_TOT_B_ORDER'].count(),\n",
    "              df[df['AM_TOT_B_ORDER'] == 6]['AM_TOT_B_ORDER'].count(),\n",
    "              df[df['AM_TOT_B_ORDER'] == 7]['AM_TOT_B_ORDER'].count(),\n",
    "              df[df['AM_TOT_B_ORDER'] == 8]['AM_TOT_B_ORDER'].count()]\n",
    "ax.bar(bar_labels,bar_heights)\n",
    "plt.xlabel('birth order')\n",
    "plt.ylabel('frequency')\n",
    "plt.title('FROM SAMPLE DATASET')\n",
    "plt.show()"
   ]
  },
  {
   "cell_type": "code",
   "execution_count": 343,
   "id": "ab8c8c8b",
   "metadata": {},
   "outputs": [
    {
     "data": {
      "image/png": "[encoded data removed]",
      "text/plain": [
       "<Figure size 432x288 with 1 Axes>"
      ]
     },
     "metadata": {
      "needs_background": "light"
     },
     "output_type": "display_data"
    }
   ],
   "source": [
    "fig = plt.figure()\n",
    "ax = fig.add_axes([0,0,1,1])\n",
    "bar_labels = ['1', '2', '3', '4', '5', '6', '7', '8']\n",
    "bar_heights = [df[df['AM_LIVE_B_ORDER'] == 1]['AM_LIVE_B_ORDER'].count(),\n",
    "              df[df['AM_LIVE_B_ORDER'] == 2]['AM_LIVE_B_ORDER'].count(),\n",
    "              df[df['AM_LIVE_B_ORDER'] == 3]['AM_LIVE_B_ORDER'].count(),\n",
    "              df[df['AM_LIVE_B_ORDER'] == 4]['AM_LIVE_B_ORDER'].count(),\n",
    "              df[df['AM_LIVE_B_ORDER'] == 5]['AM_LIVE_B_ORDER'].count(),\n",
    "              df[df['AM_LIVE_B_ORDER'] == 6]['AM_LIVE_B_ORDER'].count(),\n",
    "              df[df['AM_LIVE_B_ORDER'] == 7]['AM_LIVE_B_ORDER'].count(),\n",
    "              df[df['AM_LIVE_B_ORDER'] == 8]['AM_LIVE_B_ORDER'].count()]\n",
    "ax.bar(bar_labels,bar_heights)\n",
    "plt.xlabel('live birth order')\n",
    "plt.ylabel('frequency')\n",
    "plt.title('FROM SAMPLE DATASET')\n",
    "plt.show()"
   ]
  },
  {
   "cell_type": "code",
   "execution_count": 344,
   "id": "3bd564f0",
   "metadata": {},
   "outputs": [
    {
     "data": {
      "image/png": "[encoded data removed]",
      "text/plain": [
       "<Figure size 432x288 with 1 Axes>"
      ]
     },
     "metadata": {
      "needs_background": "light"
     },
     "output_type": "display_data"
    }
   ],
   "source": [
    "fig = plt.figure()\n",
    "ax = fig.add_axes([0,0,1,1])\n",
    "bar_labels = ['1', '2', '3', '4', '5', '6', '7', '8']\n",
    "bar_heights = [df[df['AM_CHILDREN_BAND'] == 1]['AM_CHILDREN_BAND'].count(),\n",
    "              df[df['AM_CHILDREN_BAND'] == 2]['AM_CHILDREN_BAND'].count(),\n",
    "              df[df['AM_CHILDREN_BAND'] == 3]['AM_CHILDREN_BAND'].count(),\n",
    "              df[df['AM_CHILDREN_BAND'] == 4]['AM_CHILDREN_BAND'].count(),\n",
    "              df[df['AM_CHILDREN_BAND'] == 5]['AM_CHILDREN_BAND'].count(),\n",
    "              df[df['AM_CHILDREN_BAND'] == 6]['AM_CHILDREN_BAND'].count(),\n",
    "              df[df['AM_CHILDREN_BAND'] == 7]['AM_CHILDREN_BAND'].count(),\n",
    "              df[df['AM_CHILDREN_BAND'] == 8]['AM_CHILDREN_BAND'].count()]\n",
    "ax.bar(bar_labels,bar_heights)\n",
    "plt.xlabel('AM_CHILDREN_BAND')\n",
    "plt.ylabel('frequency')\n",
    "plt.title('FROM SAMPLE DATASET')\n",
    "plt.show()"
   ]
  },
  {
   "cell_type": "code",
   "execution_count": 345,
   "id": "0e1b00dd",
   "metadata": {},
   "outputs": [
    {
     "data": {
      "image/png": "[encoded data removed]",
      "text/plain": [
       "<Figure size 432x288 with 1 Axes>"
      ]
     },
     "metadata": {
      "needs_background": "light"
     },
     "output_type": "display_data"
    }
   ],
   "source": [
    "fig = plt.figure()\n",
    "ax = fig.add_axes([0,0,1,1])\n",
    "bar_labels = ['1', '2', '3', '4', '5', '6', '7', '8']\n",
    "bar_heights = [df[df['AM_CHILDREN _BASL'] == 1]['AM_CHILDREN _BASL'].count(),\n",
    "              df[df['AM_CHILDREN _BASL'] == 2]['AM_CHILDREN _BASL'].count(),\n",
    "              df[df['AM_CHILDREN _BASL'] == 3]['AM_CHILDREN _BASL'].count(),\n",
    "              df[df['AM_CHILDREN _BASL'] == 4]['AM_CHILDREN _BASL'].count(),\n",
    "              df[df['AM_CHILDREN _BASL'] == 5]['AM_CHILDREN _BASL'].count(),\n",
    "              df[df['AM_CHILDREN _BASL'] == 6]['AM_CHILDREN _BASL'].count(),\n",
    "              df[df['AM_CHILDREN _BASL'] == 7]['AM_CHILDREN _BASL'].count(),\n",
    "              df[df['AM_CHILDREN _BASL'] == 8]['AM_CHILDREN _BASL'].count()]\n",
    "ax.bar(bar_labels,bar_heights)\n",
    "plt.xlabel('AM_CHILDREN_BASL')\n",
    "plt.ylabel('frequency')\n",
    "plt.title('FROM SAMPLE DATASET')\n",
    "plt.show()"
   ]
  },
  {
   "cell_type": "code",
   "execution_count": 346,
   "id": "ed88ec84",
   "metadata": {},
   "outputs": [
    {
     "name": "stdout",
     "output_type": "stream",
     "text": [
      "Frequency of 1 kids is 0.9844173441734417\n",
      "Frequency of 2 kids is 0.008807588075880758\n",
      "Frequency of 3 kids is 0.0040650406504065045\n",
      "Frequency of 4 kids is 0.0020325203252032522\n",
      "Frequency of 5 kids is 0.0006775067750677507\n",
      "Frequency of 6 kids is 0.0\n",
      "Frequency of 7 kids is 0.0\n"
     ]
    }
   ],
   "source": [
    "sum_ = 0\n",
    "\n",
    "for i in range(1, 8):\n",
    "    sum_ += df[df['AM_LIVE_B_ORDER'] == i]['AM_LIVE_B_ORDER'].count()\n",
    "\n",
    "\n",
    "\n",
    "for i in range(1, 8):\n",
    "    print(\"Frequency of {a} kids is {b}\".format(a = i, b = df[df['AM_LIVE_B_ORDER'] == i]['AM_LIVE_B_ORDER'].count()/sum_))\n"
   ]
  },
  {
   "cell_type": "code",
   "execution_count": 347,
   "id": "94c7a11c",
   "metadata": {},
   "outputs": [],
   "source": [
    "#df['dead babies'] = df['AM_TOT_B_ORDER'] - df['AM_CHILDREN _BASL'] - df['AM_CHILDREN_BAND'] - df['AM_LIVE_B_ORDER']\n",
    "\n",
    "def dead_babies(row):\n",
    "    if row['AM_TOT_B_ORDER'] < 54 and row['AM_CHILDREN _BASL'] < 54 and row['AM_CHILDREN_BAND'] < 54 and row['AM_LIVE_B_ORDER'] < 54:\n",
    "        return row['AM_TOT_B_ORDER'] - row['AM_CHILDREN _BASL'] - row['AM_CHILDREN_BAND'] - row['AM_LIVE_B_ORDER']\n",
    "    else:\n",
    "        return 99\n",
    "    \n",
    "df['dead_babies'] = df.apply(lambda row: dead_babies(row), axis=1)\n",
    "\n",
    "\n",
    "def dead_babies_binary(row):\n",
    "    for i in range(20):\n",
    "        if row['dead_babies'] == i:\n",
    "            return 1\n",
    "    return 0\n",
    "\n",
    "    \n",
    "df['dead_babies_binary'] = df.apply(lambda row: dead_babies_binary(row), axis=1)"
   ]
  },
  {
   "cell_type": "code",
   "execution_count": 348,
   "id": "3c6caa20",
   "metadata": {},
   "outputs": [
    {
     "data": {
      "image/png": "[encoded data removed]",
      "text/plain": [
       "<Figure size 432x288 with 1 Axes>"
      ]
     },
     "metadata": {
      "needs_background": "light"
     },
     "output_type": "display_data"
    }
   ],
   "source": [
    "fig = plt.figure()\n",
    "ax = fig.add_axes([0,0,1,1])\n",
    "bar_labels = ['1', '2']\n",
    "bar_heights = [df[df['dead_babies'] == 1]['dead_babies'].count(),\n",
    "              df[df['dead_babies'] == 2]['dead_babies'].count()]\n",
    "ax.bar(bar_labels,bar_heights)\n",
    "plt.xlabel('dead_babies')\n",
    "plt.ylabel('frequency')\n",
    "plt.title('FROM SAMPLE DATASET')\n",
    "plt.show()"
   ]
  },
  {
   "cell_type": "code",
   "execution_count": 349,
   "id": "9198adcd",
   "metadata": {},
   "outputs": [
    {
     "data": {
      "text/plain": [
       "'\\n52-53: number of children born alive now living (previous last birth) - am_children_basl\\n54-55: number of children born alive now dead (previous last birth) - am_children_band\\n58-59: total number of children ever born to mother (including last birth)\\n61:62: total number of children ever born alive to mother (including last birth) - am_tot_b_order\\n\\nTotal bo\\n\\n'"
      ]
     },
     "execution_count": 349,
     "metadata": {},
     "output_type": "execute_result"
    }
   ],
   "source": [
    "\"\"\"\n",
    "52-53: number of children born alive now living (previous last birth) - am_children_basl\n",
    "54-55: number of children born alive now dead (previous last birth) - am_children_band\n",
    "58-59: total number of children ever born to mother (including last birth)\n",
    "61:62: total number of children ever born alive to mother (including last birth) - am_tot_b_order\n",
    "\n",
    "Total bo\n",
    "\n",
    "\"\"\""
   ]
  },
  {
   "cell_type": "code",
   "execution_count": 350,
   "id": "a3bcd346",
   "metadata": {},
   "outputs": [
    {
     "data": {
      "text/plain": [
       "565453"
      ]
     },
     "execution_count": 350,
     "metadata": {},
     "output_type": "execute_result"
    }
   ],
   "source": [
    "df['AM_CHILDREN _BASL'].count()"
   ]
  },
  {
   "cell_type": "code",
   "execution_count": 351,
   "id": "7b493263",
   "metadata": {},
   "outputs": [
    {
     "name": "stdout",
     "output_type": "stream",
     "text": [
      "17963\n",
      "18455\n",
      "17720\n",
      "17341\n",
      "18412\n",
      "20368\n",
      "22253\n",
      "24556\n",
      "27904\n",
      "28750\n",
      "31759\n",
      "33247\n",
      "33224\n",
      "33638\n",
      "33561\n",
      "33700\n",
      "37494\n",
      "37622\n",
      "38247\n"
     ]
    }
   ],
   "source": [
    "year_counts = []\n",
    "\n",
    "for i in range(1969, 1988):\n",
    "    print(list(df['year']).count(i))"
   ]
  },
  {
   "cell_type": "code",
   "execution_count": 352,
   "id": "d4b1ee33",
   "metadata": {},
   "outputs": [
    {
     "name": "stdout",
     "output_type": "stream",
     "text": [
      "DT_YEAR\n",
      "ID_STATE\n",
      "ID_AREA\n",
      "ID_CERT\n",
      "IN_RESIDENT\n",
      "ID_RES_STATUS\n",
      "ID_RESIDENCE\n",
      "ID_OCCURENCE\n",
      "ID_SEX\n",
      "ID_ATTENDANT\n",
      "ID_F_RACE\n",
      "ID_M_RACE\n",
      "ID_C_RACE\n",
      "ID_C_RACE3\n",
      "AM_M_AGE\n",
      "AM_M_AGE36\n",
      "AM_M_AGE15\n",
      "AM_M_AGE12\n",
      "AM_M_AGE8\n",
      "AM_M_AGE7\n",
      "AM_M_AGE6\n",
      "AM_CHILDREN _BASL\n",
      "AM_CHILDREN_BAND\n",
      "AM_CHILDREN_BD\n",
      "AM_TOT_B_ORDER\n",
      "AM_TOT_B_ORDER9\n",
      "AM_LIVE_B_ORDER\n",
      "AM_LIVE_B_ORDER9\n",
      "AM_LIVE_B_ORDER8\n",
      "AM_LIVE_B_ORDER7\n",
      "AM_LIVE_B_ORDER6\n",
      "AM_LIVE_B_ORDER3\n",
      "RESERVED\n",
      "AM_F_AGE\n",
      "AM_F_AGE11\n",
      "AM_BIRTHWEIGHT\n",
      "AM_BIRTHWEIGHT12\n",
      "AM_BIRTHWEIGHT3\n",
      "ID_DELIVERY_LOC\n",
      "AM_PLURALITY\n",
      "AM_PLURALITY3\n",
      "AM_PLURALITY2\n",
      "DT_BIRTH_MMDD\n",
      "DT_LAST_MENSES\n",
      "AM_GESTATION\n",
      "AM_GESTATION10\n",
      "AM_GESTATION3\n",
      "ID_M_EDU\n",
      "ID_M_EDU14\n",
      "ID_M_EDU6\n",
      "ID_F_EDU\n",
      "ID_F_EDU14\n",
      "IN_MARRIED\n",
      "IN_MARRIED2\n",
      "AM_PRENATAL\n",
      "AM_PRENATAL10\n",
      "AM_PRENATAL6\n",
      "DT_LAST_LB_MM19YY\n",
      "AM_POST_LAST_LB\n",
      "AM_POST_LAST_LB17\n",
      "AM_POST_LAST_LB10\n",
      "AM_POST_LAST_LB8\n",
      "DT_LAST_TERMIN\n",
      "IN_LAST_TERMIN\n",
      "AM_POST_LT\n",
      "AM_POST_TLP\n",
      "AM_POST_TLP9\n",
      "ID_LAST_PREG\n",
      "ID_M_BIRTHPLACE\n",
      "AM_TOT_PRENATAL\n",
      "IN_MALFORMATION\n",
      "RESERVED2\n",
      "IN_REPORT_FLAGS\n",
      "IN_OCCUR_FLAGS\n",
      "RESERVED3\n",
      "ID_ATTENDANT_NCHS\n",
      "AM_TERMINATION<20\n",
      "AM_TERMINATION>20\n",
      "AM_1MIN_APGAR\n",
      "AM_1MIN_APGAR5\n",
      "AM_5MIN_APGAR\n",
      "AM_5MIN_APGAR5\n",
      "ID_M_DESCENT\n",
      "ID_F_DESCENT\n",
      "IN_GEST_FLAG\n",
      "ID_RES_REGION\n",
      "ID_OCC_REGION\n",
      "ID_FIPS_OCC\n",
      "ID_WEIGHT_REC\n",
      "AM_PRENATAL28\n",
      "AM_PRENATAL12\n",
      "RESERVED4\n",
      "ID_STATE_OCC\n",
      "AM_POST_FULL_CON\n",
      "AM_LUNAR_MONTH_CON\n",
      "DT_CONCEPTION\n",
      "AM_POST_FULL_DOB\n",
      "AM_LUNAR_MONTH_DOB\n",
      "DT_DOB\n",
      "id\n",
      "State\n",
      "County\n",
      "County FIPS\n",
      "GHIAnnual\n",
      "nchs_state\n",
      "nchs_county\n",
      "year\n",
      "month\n",
      "month_year\n",
      "var_1\n",
      "dead_babies\n",
      "dead_babies_binary\n"
     ]
    }
   ],
   "source": [
    "for key in df.keys():\n",
    "    print(key)"
   ]
  },
  {
   "cell_type": "code",
   "execution_count": 353,
   "id": "a2de45b1",
   "metadata": {},
   "outputs": [
    {
     "data": {
      "text/html": [
       "<style>.container { width:100% !important; }</style>"
      ],
      "text/plain": [
       "<IPython.core.display.HTML object>"
      ]
     },
     "metadata": {},
     "output_type": "display_data"
    }
   ],
   "source": [
    "from IPython.display import display, HTML\n",
    "display(HTML(\"<style>.container { width:100% !important; }</style>\"))"
   ]
  },
  {
   "cell_type": "code",
   "execution_count": 354,
   "id": "964fbce8",
   "metadata": {},
   "outputs": [
    {
     "data": {
      "text/plain": [
       "(array([   904., 455590.,  68808.,  17036.,   4802.,   1968.]),\n",
       " array([0, 1, 2, 3, 4, 5, 6]),\n",
       " <BarContainer object of 6 artists>)"
      ]
     },
     "execution_count": 354,
     "metadata": {},
     "output_type": "execute_result"
    },
    {
     "data": {
      "image/png": "[encoded data removed]",
      "text/plain": [
       "<Figure size 432x288 with 1 Axes>"
      ]
     },
     "metadata": {
      "needs_background": "light"
     },
     "output_type": "display_data"
    }
   ],
   "source": [
    "plt.hist(df['dead_babies'], bins=[0, 1, 2, 3, 4, 5, 6])"
   ]
  },
  {
   "cell_type": "code",
   "execution_count": null,
   "id": "22f5fb4b",
   "metadata": {},
   "outputs": [],
   "source": []
  },
  {
   "cell_type": "code",
   "execution_count": null,
   "id": "af1746ee",
   "metadata": {},
   "outputs": [],
   "source": []
  },
  {
   "cell_type": "code",
   "execution_count": 355,
   "id": "f2bbc4c2",
   "metadata": {},
   "outputs": [],
   "source": [
    "def dv_black(row):\n",
    "    if row['ID_C_RACE3'] == 3:\n",
    "        return 1\n",
    "    return 0\n",
    "\n",
    "\n",
    "def dv_white(row):\n",
    "    if row['ID_C_RACE3'] == 1:\n",
    "        return 1\n",
    "    return 0\n",
    "\n",
    "\n",
    "def dv_other(row):\n",
    "    if row['ID_C_RACE3'] == 2:\n",
    "        return 1\n",
    "    return 0\n",
    "\n",
    "\n",
    "df['dv_black'] = df.apply(lambda row: dv_black(row), axis=1)\n",
    "df['dv_white'] = df.apply(lambda row: dv_white(row), axis=1)\n",
    "df['dv_other'] = df.apply(lambda row: dv_other(row), axis=1)\n"
   ]
  },
  {
   "cell_type": "code",
   "execution_count": 356,
   "id": "5e513055",
   "metadata": {},
   "outputs": [],
   "source": [
    "def dv_m_age_1(row):\n",
    "    if row['AM_M_AGE7'] == 1:\n",
    "        return 1\n",
    "    return 0\n",
    "\n",
    "def dv_m_age_2(row):\n",
    "    if row['AM_M_AGE7'] == 2:\n",
    "        return 1\n",
    "    return 0\n",
    "\n",
    "def dv_m_age_3(row):\n",
    "    if row['AM_M_AGE7'] == 3:\n",
    "        return 1\n",
    "    return 0\n",
    "\n",
    "def dv_m_age_4(row):\n",
    "    if row['AM_M_AGE7'] == 4:\n",
    "        return 1\n",
    "    return 0\n",
    "\n",
    "def dv_m_age_5(row):\n",
    "    if row['AM_M_AGE7'] == 5:\n",
    "        return 1\n",
    "    return 0\n",
    "\n",
    "def dv_m_age_6(row):\n",
    "    if row['AM_M_AGE7'] == 6:\n",
    "        return 1\n",
    "    return 0\n",
    "\n",
    "\n",
    "def dv_m_age_7(row):\n",
    "    if row['AM_M_AGE7'] == 7:\n",
    "        return 1\n",
    "    return 0\n",
    "\n",
    "\n",
    "df['am_m_age_1'] = df.apply(lambda row: dv_m_age_1(row), axis=1)\n",
    "df['am_m_age_2'] = df.apply(lambda row: dv_m_age_2(row), axis=1)\n",
    "df['am_m_age_3'] = df.apply(lambda row: dv_m_age_3(row), axis=1)\n",
    "df['am_m_age_4'] = df.apply(lambda row: dv_m_age_4(row), axis=1)\n",
    "df['am_m_age_5'] = df.apply(lambda row: dv_m_age_5(row), axis=1)\n",
    "df['am_m_age_6'] = df.apply(lambda row: dv_m_age_6(row), axis=1)\n",
    "df['am_m_age_7'] = df.apply(lambda row: dv_m_age_7(row), axis=1)"
   ]
  },
  {
   "cell_type": "code",
   "execution_count": 357,
   "id": "a3b9e577",
   "metadata": {},
   "outputs": [],
   "source": [
    "def dv_f_age_1(row):\n",
    "    if row['AM_F_AGE11'] == 1:\n",
    "        return 1\n",
    "    return 0\n",
    "\n",
    "def dv_f_age_2(row):\n",
    "    if row['AM_F_AGE11'] == 2:\n",
    "        return 1\n",
    "    return 0\n",
    "\n",
    "def dv_f_age_3(row):\n",
    "    if row['AM_F_AGE11'] == 3:\n",
    "        return 1\n",
    "    return 0\n",
    "\n",
    "def dv_f_age_4(row):\n",
    "    if row['AM_F_AGE11'] == 4:\n",
    "        return 1\n",
    "    return 0\n",
    "\n",
    "def dv_f_age_5(row):\n",
    "    if row['AM_F_AGE11'] == 5:\n",
    "        return 1\n",
    "    return 0\n",
    "\n",
    "def dv_f_age_6(row):\n",
    "    if row['AM_F_AGE11'] == 6:\n",
    "        return 1\n",
    "    return 0\n",
    "\n",
    "def dv_f_age_7(row):\n",
    "    if row['AM_F_AGE11'] == 7:\n",
    "        return 1\n",
    "    return 0\n",
    "\n",
    "def dv_f_age_8(row):\n",
    "    if row['AM_F_AGE11'] == 8:\n",
    "        return 1\n",
    "    return 0\n",
    "\n",
    "def dv_f_age_9(row):\n",
    "    if row['AM_F_AGE11'] == 9:\n",
    "        return 1\n",
    "    return 0\n",
    "\n",
    "def dv_f_age_10(row):\n",
    "    if row['AM_F_AGE11'] == 10:\n",
    "        return 1\n",
    "    return 0\n",
    "\n",
    "def dv_f_age_11(row):\n",
    "    if row['AM_F_AGE11'] == 11:\n",
    "        return 1\n",
    "    return 0\n",
    "\n",
    "\n",
    "df['am_f_age_1'] = df.apply(lambda row: dv_f_age_1(row), axis=1)\n",
    "df['am_f_age_2'] = df.apply(lambda row: dv_f_age_2(row), axis=1)\n",
    "df['am_f_age_3'] = df.apply(lambda row: dv_f_age_3(row), axis=1)\n",
    "df['am_f_age_4'] = df.apply(lambda row: dv_f_age_4(row), axis=1)\n",
    "df['am_f_age_5'] = df.apply(lambda row: dv_f_age_5(row), axis=1)\n",
    "df['am_f_age_6'] = df.apply(lambda row: dv_f_age_6(row), axis=1)\n",
    "df['am_f_age_7'] = df.apply(lambda row: dv_f_age_7(row), axis=1)\n",
    "df['am_f_age_8'] = df.apply(lambda row: dv_f_age_8(row), axis=1)\n",
    "df['am_f_age_9'] = df.apply(lambda row: dv_f_age_9(row), axis=1)\n",
    "df['am_f_age_10'] = df.apply(lambda row: dv_f_age_10(row), axis=1)\n",
    "df['am_f_age_11'] = df.apply(lambda row: dv_f_age_11(row), axis=1)"
   ]
  },
  {
   "cell_type": "code",
   "execution_count": 358,
   "id": "dd5b535d",
   "metadata": {},
   "outputs": [],
   "source": [
    "def m_edu_1(row):\n",
    "    if row['ID_M_EDU6'] == 1:\n",
    "        return 1\n",
    "    return 0\n",
    "\n",
    "def m_edu_2(row):\n",
    "    if row['ID_M_EDU6'] == 2:\n",
    "        return 1\n",
    "    return 0\n",
    "\n",
    "def m_edu_3(row):\n",
    "    if row['ID_M_EDU6'] == 3:\n",
    "        return 1\n",
    "    return 0\n",
    "\n",
    "def m_edu_4(row):\n",
    "    if row['ID_M_EDU6'] == 4:\n",
    "        return 1\n",
    "    return 0\n",
    "\n",
    "def m_edu_5(row):\n",
    "    if row['ID_M_EDU6'] == 5:\n",
    "        return 1\n",
    "    return 0\n",
    "\n",
    "\n",
    "df['m_edu_1'] = df.apply(lambda row: m_edu_1(row), axis=1)\n",
    "df['m_edu_2'] = df.apply(lambda row: m_edu_2(row), axis=1)\n",
    "df['m_edu_3'] = df.apply(lambda row: m_edu_3(row), axis=1)\n",
    "df['m_edu_4'] = df.apply(lambda row: m_edu_4(row), axis=1)\n",
    "df['m_edu_5'] = df.apply(lambda row: m_edu_5(row), axis=1)"
   ]
  },
  {
   "cell_type": "code",
   "execution_count": 359,
   "id": "70cbdfa3",
   "metadata": {},
   "outputs": [],
   "source": [
    "def f_edu_1(row):\n",
    "    if row['ID_F_EDU14'] == 1:\n",
    "        return 1\n",
    "    return 0\n",
    "\n",
    "def f_edu_2(row):\n",
    "    if row['ID_F_EDU14'] == 2:\n",
    "        return 1\n",
    "    return 0\n",
    "\n",
    "def f_edu_3(row):\n",
    "    if row['ID_F_EDU14'] == 3:\n",
    "        return 1\n",
    "    return 0\n",
    "\n",
    "def f_edu_4(row):\n",
    "    if row['ID_F_EDU14'] == 4:\n",
    "        return 1\n",
    "    return 0\n",
    "\n",
    "def f_edu_5(row):\n",
    "    if row['ID_F_EDU14'] == 5:\n",
    "        return 1\n",
    "    return 0\n",
    "\n",
    "def f_edu_6(row):\n",
    "    if row['ID_F_EDU14'] == 6:\n",
    "        return 1\n",
    "    return 0\n",
    "\n",
    "def f_edu_7(row):\n",
    "    if row['ID_F_EDU14'] == 7:\n",
    "        return 1\n",
    "    return 0\n",
    "\n",
    "def f_edu_8(row):\n",
    "    if row['ID_F_EDU14'] == 8:\n",
    "        return 1\n",
    "    return 0\n",
    "\n",
    "def f_edu_9(row):\n",
    "    if row['ID_F_EDU14'] == 9:\n",
    "        return 1\n",
    "    return 0\n",
    "\n",
    "def f_edu_10(row):\n",
    "    if row['ID_F_EDU14'] == 10:\n",
    "        return 1\n",
    "    return 0\n",
    "\n",
    "def f_edu_11(row):\n",
    "    if row['ID_F_EDU14'] == 11:\n",
    "        return 1\n",
    "    return 0\n",
    "\n",
    "def f_edu_12(row):\n",
    "    if row['ID_F_EDU14'] == 12:\n",
    "        return 1\n",
    "    return 0\n",
    "\n",
    "def f_edu_13(row):\n",
    "    if row['ID_F_EDU14'] == 13:\n",
    "        return 1\n",
    "    return 0\n",
    "\n",
    "def f_edu_14(row):\n",
    "    if row['ID_F_EDU14'] == 14:\n",
    "        return 1\n",
    "    return 0\n",
    "\n",
    "def f_edu_15(row):\n",
    "    if row['ID_F_EDU14'] == 15:\n",
    "        return 1\n",
    "    return 0\n",
    "\n",
    "def f_edu_16(row):\n",
    "    if row['ID_F_EDU14'] == 16:\n",
    "        return 1\n",
    "    return 0\n",
    "\n",
    "def f_edu_17(row):\n",
    "    if row['ID_F_EDU14'] == 17:\n",
    "        return 1\n",
    "    return 0\n",
    "\n",
    "\n",
    "df['f_edu_1'] = df.apply(lambda row: f_edu_1(row), axis=1)\n",
    "df['f_edu_2'] = df.apply(lambda row: f_edu_2(row), axis=1)\n",
    "df['f_edu_3'] = df.apply(lambda row: f_edu_3(row), axis=1)\n",
    "df['f_edu_4'] = df.apply(lambda row: f_edu_4(row), axis=1)\n",
    "df['f_edu_5'] = df.apply(lambda row: f_edu_5(row), axis=1)\n",
    "df['f_edu_6'] = df.apply(lambda row: f_edu_6(row), axis=1)\n",
    "df['f_edu_7'] = df.apply(lambda row: f_edu_7(row), axis=1)\n",
    "df['f_edu_8'] = df.apply(lambda row: f_edu_8(row), axis=1)\n",
    "df['f_edu_9'] = df.apply(lambda row: f_edu_9(row), axis=1)\n",
    "df['f_edu_10'] = df.apply(lambda row: f_edu_10(row), axis=1)\n",
    "df['f_edu_11'] = df.apply(lambda row: f_edu_11(row), axis=1)\n",
    "df['f_edu_12'] = df.apply(lambda row: f_edu_12(row), axis=1)\n",
    "df['f_edu_13'] = df.apply(lambda row: f_edu_13(row), axis=1)\n",
    "df['f_edu_14'] = df.apply(lambda row: f_edu_14(row), axis=1)\n",
    "df['f_edu_15'] = df.apply(lambda row: f_edu_15(row), axis=1)\n",
    "df['f_edu_16'] = df.apply(lambda row: f_edu_16(row), axis=1)\n",
    "df['f_edu_17'] = df.apply(lambda row: f_edu_17(row), axis=1)"
   ]
  },
  {
   "cell_type": "code",
   "execution_count": 360,
   "id": "c60f0419",
   "metadata": {},
   "outputs": [],
   "source": [
    "def dv_birthweight(row):\n",
    "    if row['AM_BIRTHWEIGHT3'] == 1:\n",
    "        return 1\n",
    "    return 0\n",
    "\n",
    "\n",
    "df['dv_birthweight'] = df.apply(lambda row: dv_birthweight(row), axis=1)\n",
    "df['dv_birthweight'] = df.apply(lambda row: dv_birthweight(row), axis=1)"
   ]
  },
  {
   "cell_type": "code",
   "execution_count": 361,
   "id": "8fdeec53",
   "metadata": {},
   "outputs": [],
   "source": [
    "df.drop(df.index[df['AM_F_AGE11'] == 11], inplace=True)\n",
    "df.drop(df.index[df['ID_M_EDU6'] == 0], inplace=True)\n",
    "df.drop(df.index[df['ID_M_EDU6'] == 6], inplace=True)\n",
    "df.drop(df.index[df['ID_F_EDU14'] == 0], inplace=True)\n",
    "df.drop(df.index[df['ID_F_EDU14'] == 14], inplace=True)\n",
    "df.drop(df.index[df['AM_BIRTHWEIGHT3'] == 3], inplace=True)\n"
   ]
  },
  {
   "cell_type": "code",
   "execution_count": 362,
   "id": "faf189d8",
   "metadata": {},
   "outputs": [
    {
     "data": {
      "text/plain": [
       "372866"
      ]
     },
     "execution_count": 362,
     "metadata": {},
     "output_type": "execute_result"
    }
   ],
   "source": [
    "df['AM_F_AGE11'].count()"
   ]
  },
  {
   "cell_type": "code",
   "execution_count": null,
   "id": "07007c7a",
   "metadata": {},
   "outputs": [],
   "source": []
  },
  {
   "cell_type": "code",
   "execution_count": 427,
   "id": "08edd222",
   "metadata": {},
   "outputs": [],
   "source": [
    "x_columns = [\n",
    "    'AM_M_AGE15',\n",
    "    'AM_F_AGE11',\n",
    "    'ID_M_EDU6',\n",
    "    'ID_F_EDU14',\n",
    "    'dv_black',\n",
    "    'dv_white',\n",
    "    'dv_other'\n",
    "    ]"
   ]
  },
  {
   "cell_type": "code",
   "execution_count": 428,
   "id": "b84b6173",
   "metadata": {},
   "outputs": [],
   "source": [
    "X = df[x_columns]        "
   ]
  },
  {
   "cell_type": "code",
   "execution_count": 429,
   "id": "be438151",
   "metadata": {},
   "outputs": [],
   "source": [
    "y = df['dv_birthweight']"
   ]
  },
  {
   "cell_type": "code",
   "execution_count": 430,
   "id": "a18740fd",
   "metadata": {},
   "outputs": [],
   "source": [
    "X_train, X_test, y_train, y_test = train_test_split(X, y, test_size=0.25, random_state=16)"
   ]
  },
  {
   "cell_type": "code",
   "execution_count": 431,
   "id": "d1b1f522",
   "metadata": {},
   "outputs": [
    {
     "data": {
      "text/plain": [
       "372866"
      ]
     },
     "execution_count": 431,
     "metadata": {},
     "output_type": "execute_result"
    }
   ],
   "source": [
    "len(X)"
   ]
  },
  {
   "cell_type": "code",
   "execution_count": 432,
   "id": "ce9aba8d",
   "metadata": {},
   "outputs": [
    {
     "data": {
      "text/plain": [
       "372866"
      ]
     },
     "execution_count": 432,
     "metadata": {},
     "output_type": "execute_result"
    }
   ],
   "source": [
    "len(y)"
   ]
  },
  {
   "cell_type": "code",
   "execution_count": 433,
   "id": "59b72b7a",
   "metadata": {},
   "outputs": [],
   "source": [
    "from sklearn.linear_model import LogisticRegression"
   ]
  },
  {
   "cell_type": "code",
   "execution_count": 434,
   "id": "6012c303",
   "metadata": {},
   "outputs": [],
   "source": [
    "logreg = LogisticRegression(random_state=16)\n",
    "logreg.fit(X_train, y_train)\n",
    "y_pred = logreg.predict(X_test)"
   ]
  },
  {
   "cell_type": "code",
   "execution_count": null,
   "id": "b75eb5c8",
   "metadata": {},
   "outputs": [],
   "source": []
  },
  {
   "cell_type": "code",
   "execution_count": 435,
   "id": "49639487",
   "metadata": {},
   "outputs": [
    {
     "name": "stdout",
     "output_type": "stream",
     "text": [
      "                precision    recall  f1-score   support\n",
      "\n",
      "   underweight       0.94      1.00      0.97     87421\n",
      "healthy weight       0.00      0.00      0.00      5796\n",
      "\n",
      "      accuracy                           0.94     93217\n",
      "     macro avg       0.47      0.50      0.48     93217\n",
      "  weighted avg       0.88      0.94      0.91     93217\n",
      "\n"
     ]
    },
    {
     "name": "stderr",
     "output_type": "stream",
     "text": [
      "C:\\Users\\rliam\\AppData\\Local\\Programs\\Python\\Python310\\lib\\site-packages\\sklearn\\metrics\\_classification.py:1334: UndefinedMetricWarning: Precision and F-score are ill-defined and being set to 0.0 in labels with no predicted samples. Use `zero_division` parameter to control this behavior.\n",
      "  _warn_prf(average, modifier, msg_start, len(result))\n",
      "C:\\Users\\rliam\\AppData\\Local\\Programs\\Python\\Python310\\lib\\site-packages\\sklearn\\metrics\\_classification.py:1334: UndefinedMetricWarning: Precision and F-score are ill-defined and being set to 0.0 in labels with no predicted samples. Use `zero_division` parameter to control this behavior.\n",
      "  _warn_prf(average, modifier, msg_start, len(result))\n",
      "C:\\Users\\rliam\\AppData\\Local\\Programs\\Python\\Python310\\lib\\site-packages\\sklearn\\metrics\\_classification.py:1334: UndefinedMetricWarning: Precision and F-score are ill-defined and being set to 0.0 in labels with no predicted samples. Use `zero_division` parameter to control this behavior.\n",
      "  _warn_prf(average, modifier, msg_start, len(result))\n"
     ]
    }
   ],
   "source": [
    "from sklearn.metrics import classification_report\n",
    "target_names = ['underweight', 'healthy weight']\n",
    "print(classification_report(y_test, y_pred, target_names=target_names))"
   ]
  },
  {
   "cell_type": "code",
   "execution_count": 436,
   "id": "6e5dfaad",
   "metadata": {},
   "outputs": [
    {
     "data": {
      "image/png": "[encoded data removed]",
      "text/plain": [
       "<Figure size 432x288 with 1 Axes>"
      ]
     },
     "metadata": {
      "needs_background": "light"
     },
     "output_type": "display_data"
    }
   ],
   "source": [
    "y_pred_proba = logreg.predict_proba(X_test)[::,1]\n",
    "fpr, tpr, _ = metrics.roc_curve(y_test,  y_pred_proba)\n",
    "auc = metrics.roc_auc_score(y_test, y_pred_proba)\n",
    "plt.plot(fpr,tpr,label=\"data 1, auc=\"+str(auc))\n",
    "plt.legend(loc=4)\n",
    "plt.show()"
   ]
  },
  {
   "cell_type": "code",
   "execution_count": 397,
   "id": "e189af97",
   "metadata": {},
   "outputs": [],
   "source": [
    "lm = linear_model.LinearRegression()\n",
    "y = df['AM_BIRTHWEIGHT']\n",
    "model = lm.fit(X, y)"
   ]
  },
  {
   "cell_type": "code",
   "execution_count": 398,
   "id": "97992a1a",
   "metadata": {},
   "outputs": [],
   "source": [
    "predictions = lm.predict(X)"
   ]
  },
  {
   "cell_type": "code",
   "execution_count": 399,
   "id": "e1fca06b",
   "metadata": {},
   "outputs": [
    {
     "data": {
      "text/plain": [
       "0.02546145898932639"
      ]
     },
     "execution_count": 399,
     "metadata": {},
     "output_type": "execute_result"
    }
   ],
   "source": [
    "lm.score(X,y)"
   ]
  },
  {
   "cell_type": "code",
   "execution_count": 400,
   "id": "4b8e7a1d",
   "metadata": {},
   "outputs": [
    {
     "data": {
      "text/html": [
       "<div>\n",
       "<style scoped>\n",
       "    .dataframe tbody tr th:only-of-type {\n",
       "        vertical-align: middle;\n",
       "    }\n",
       "\n",
       "    .dataframe tbody tr th {\n",
       "        vertical-align: top;\n",
       "    }\n",
       "\n",
       "    .dataframe thead th {\n",
       "        text-align: right;\n",
       "    }\n",
       "</style>\n",
       "<table border=\"1\" class=\"dataframe\">\n",
       "  <thead>\n",
       "    <tr style=\"text-align: right;\">\n",
       "      <th></th>\n",
       "      <th>IN_MARRIED</th>\n",
       "      <th>AM_M_AGE15</th>\n",
       "      <th>AM_F_AGE11</th>\n",
       "      <th>ID_M_EDU6</th>\n",
       "      <th>ID_F_EDU14</th>\n",
       "      <th>dv_black</th>\n",
       "      <th>dv_white</th>\n",
       "      <th>dv_other</th>\n",
       "    </tr>\n",
       "  </thead>\n",
       "  <tbody>\n",
       "    <tr>\n",
       "      <th>IN_MARRIED</th>\n",
       "      <td>1.000000</td>\n",
       "      <td>-0.030700</td>\n",
       "      <td>-0.017446</td>\n",
       "      <td>-0.049698</td>\n",
       "      <td>-0.032192</td>\n",
       "      <td>0.022402</td>\n",
       "      <td>-0.013201</td>\n",
       "      <td>-0.015411</td>\n",
       "    </tr>\n",
       "    <tr>\n",
       "      <th>AM_M_AGE15</th>\n",
       "      <td>-0.030700</td>\n",
       "      <td>1.000000</td>\n",
       "      <td>0.656204</td>\n",
       "      <td>0.403821</td>\n",
       "      <td>0.312555</td>\n",
       "      <td>-0.058706</td>\n",
       "      <td>0.041439</td>\n",
       "      <td>0.025793</td>\n",
       "    </tr>\n",
       "    <tr>\n",
       "      <th>AM_F_AGE11</th>\n",
       "      <td>-0.017446</td>\n",
       "      <td>0.656204</td>\n",
       "      <td>1.000000</td>\n",
       "      <td>0.212350</td>\n",
       "      <td>0.185419</td>\n",
       "      <td>-0.011121</td>\n",
       "      <td>-0.010095</td>\n",
       "      <td>0.043149</td>\n",
       "    </tr>\n",
       "    <tr>\n",
       "      <th>ID_M_EDU6</th>\n",
       "      <td>-0.049698</td>\n",
       "      <td>0.403821</td>\n",
       "      <td>0.212350</td>\n",
       "      <td>1.000000</td>\n",
       "      <td>0.660586</td>\n",
       "      <td>-0.072976</td>\n",
       "      <td>0.064536</td>\n",
       "      <td>0.004294</td>\n",
       "    </tr>\n",
       "    <tr>\n",
       "      <th>ID_F_EDU14</th>\n",
       "      <td>-0.032192</td>\n",
       "      <td>0.312555</td>\n",
       "      <td>0.185419</td>\n",
       "      <td>0.660586</td>\n",
       "      <td>1.000000</td>\n",
       "      <td>-0.100356</td>\n",
       "      <td>0.083576</td>\n",
       "      <td>0.016935</td>\n",
       "    </tr>\n",
       "    <tr>\n",
       "      <th>dv_black</th>\n",
       "      <td>0.022402</td>\n",
       "      <td>-0.058706</td>\n",
       "      <td>-0.011121</td>\n",
       "      <td>-0.072976</td>\n",
       "      <td>-0.100356</td>\n",
       "      <td>1.000000</td>\n",
       "      <td>-0.883651</td>\n",
       "      <td>-0.060316</td>\n",
       "    </tr>\n",
       "    <tr>\n",
       "      <th>dv_white</th>\n",
       "      <td>-0.013201</td>\n",
       "      <td>0.041439</td>\n",
       "      <td>-0.010095</td>\n",
       "      <td>0.064536</td>\n",
       "      <td>0.083576</td>\n",
       "      <td>-0.883651</td>\n",
       "      <td>1.000000</td>\n",
       "      <td>-0.413996</td>\n",
       "    </tr>\n",
       "    <tr>\n",
       "      <th>dv_other</th>\n",
       "      <td>-0.015411</td>\n",
       "      <td>0.025793</td>\n",
       "      <td>0.043149</td>\n",
       "      <td>0.004294</td>\n",
       "      <td>0.016935</td>\n",
       "      <td>-0.060316</td>\n",
       "      <td>-0.413996</td>\n",
       "      <td>1.000000</td>\n",
       "    </tr>\n",
       "  </tbody>\n",
       "</table>\n",
       "</div>"
      ],
      "text/plain": [
       "            IN_MARRIED  AM_M_AGE15  AM_F_AGE11  ID_M_EDU6  ID_F_EDU14  \\\n",
       "IN_MARRIED    1.000000   -0.030700   -0.017446  -0.049698   -0.032192   \n",
       "AM_M_AGE15   -0.030700    1.000000    0.656204   0.403821    0.312555   \n",
       "AM_F_AGE11   -0.017446    0.656204    1.000000   0.212350    0.185419   \n",
       "ID_M_EDU6    -0.049698    0.403821    0.212350   1.000000    0.660586   \n",
       "ID_F_EDU14   -0.032192    0.312555    0.185419   0.660586    1.000000   \n",
       "dv_black      0.022402   -0.058706   -0.011121  -0.072976   -0.100356   \n",
       "dv_white     -0.013201    0.041439   -0.010095   0.064536    0.083576   \n",
       "dv_other     -0.015411    0.025793    0.043149   0.004294    0.016935   \n",
       "\n",
       "            dv_black  dv_white  dv_other  \n",
       "IN_MARRIED  0.022402 -0.013201 -0.015411  \n",
       "AM_M_AGE15 -0.058706  0.041439  0.025793  \n",
       "AM_F_AGE11 -0.011121 -0.010095  0.043149  \n",
       "ID_M_EDU6  -0.072976  0.064536  0.004294  \n",
       "ID_F_EDU14 -0.100356  0.083576  0.016935  \n",
       "dv_black    1.000000 -0.883651 -0.060316  \n",
       "dv_white   -0.883651  1.000000 -0.413996  \n",
       "dv_other   -0.060316 -0.413996  1.000000  "
      ]
     },
     "execution_count": 400,
     "metadata": {},
     "output_type": "execute_result"
    }
   ],
   "source": [
    "X.corr()"
   ]
  },
  {
   "cell_type": "code",
   "execution_count": 401,
   "id": "9d6b44c2",
   "metadata": {},
   "outputs": [
    {
     "name": "stdout",
     "output_type": "stream",
     "text": [
      "PearsonRResult(statistic=-0.028144623323037743, pvalue=3.1975385837948e-66)\n",
      "PearsonRResult(statistic=0.08535831388062697, pvalue=0.0)\n",
      "PearsonRResult(statistic=0.04753149533237634, pvalue=2.0369191646886718e-185)\n",
      "PearsonRResult(statistic=0.08877250065173067, pvalue=0.0)\n",
      "PearsonRResult(statistic=0.07720138153079434, pvalue=0.0)\n",
      "PearsonRResult(statistic=-0.12204344947726084, pvalue=0.0)\n",
      "PearsonRResult(statistic=0.12171148954383046, pvalue=0.0)\n",
      "PearsonRResult(statistic=-0.02220742525286389, pvalue=6.719159232645427e-42)\n"
     ]
    }
   ],
   "source": [
    "for item in x_columns:\n",
    "    print(pearsonr(df[item], y))"
   ]
  },
  {
   "cell_type": "code",
   "execution_count": 406,
   "id": "f641c673",
   "metadata": {},
   "outputs": [
    {
     "data": {
      "image/png": "[encoded data removed]",
      "text/plain": [
       "<Figure size 432x288 with 1 Axes>"
      ]
     },
     "metadata": {
      "needs_background": "light"
     },
     "output_type": "display_data"
    },
    {
     "data": {
      "text/plain": [
       "<Figure size 640x480 with 0 Axes>"
      ]
     },
     "metadata": {},
     "output_type": "display_data"
    }
   ],
   "source": [
    "time_series_graph('AM_BIRTHWEIGHT')"
   ]
  },
  {
   "cell_type": "code",
   "execution_count": 440,
   "id": "f1052f6b",
   "metadata": {},
   "outputs": [
    {
     "data": {
      "image/png": "[encoded data removed]",
      "text/plain": [
       "<Figure size 432x288 with 1 Axes>"
      ]
     },
     "metadata": {
      "needs_background": "light"
     },
     "output_type": "display_data"
    },
    {
     "data": {
      "text/plain": [
       "<Figure size 640x480 with 0 Axes>"
      ]
     },
     "metadata": {},
     "output_type": "display_data"
    }
   ],
   "source": [
    "time_series_graph('AM_BIRTHWEIGHT')"
   ]
  },
  {
   "cell_type": "code",
   "execution_count": 411,
   "id": "25102cda",
   "metadata": {},
   "outputs": [
    {
     "name": "stdout",
     "output_type": "stream",
     "text": [
      "DT_YEAR\n",
      "ID_STATE\n",
      "ID_AREA\n",
      "ID_CERT\n",
      "IN_RESIDENT\n",
      "ID_RES_STATUS\n",
      "ID_RESIDENCE\n",
      "ID_OCCURENCE\n",
      "ID_SEX\n",
      "ID_ATTENDANT\n",
      "ID_F_RACE\n",
      "ID_M_RACE\n",
      "ID_C_RACE\n",
      "ID_C_RACE3\n",
      "AM_M_AGE\n",
      "AM_M_AGE36\n",
      "AM_M_AGE15\n",
      "AM_M_AGE12\n",
      "AM_M_AGE8\n",
      "AM_M_AGE7\n",
      "AM_M_AGE6\n",
      "AM_CHILDREN _BASL\n",
      "AM_CHILDREN_BAND\n",
      "AM_CHILDREN_BD\n",
      "AM_TOT_B_ORDER\n",
      "AM_TOT_B_ORDER9\n",
      "AM_LIVE_B_ORDER\n",
      "AM_LIVE_B_ORDER9\n",
      "AM_LIVE_B_ORDER8\n",
      "AM_LIVE_B_ORDER7\n",
      "AM_LIVE_B_ORDER6\n",
      "AM_LIVE_B_ORDER3\n",
      "RESERVED\n",
      "AM_F_AGE\n",
      "AM_F_AGE11\n",
      "AM_BIRTHWEIGHT\n",
      "AM_BIRTHWEIGHT12\n",
      "AM_BIRTHWEIGHT3\n",
      "ID_DELIVERY_LOC\n",
      "AM_PLURALITY\n",
      "AM_PLURALITY3\n",
      "AM_PLURALITY2\n",
      "DT_BIRTH_MMDD\n",
      "DT_LAST_MENSES\n",
      "AM_GESTATION\n",
      "AM_GESTATION10\n",
      "AM_GESTATION3\n",
      "ID_M_EDU\n",
      "ID_M_EDU14\n",
      "ID_M_EDU6\n",
      "ID_F_EDU\n",
      "ID_F_EDU14\n",
      "IN_MARRIED\n",
      "IN_MARRIED2\n",
      "AM_PRENATAL\n",
      "AM_PRENATAL10\n",
      "AM_PRENATAL6\n",
      "DT_LAST_LB_MM19YY\n",
      "AM_POST_LAST_LB\n",
      "AM_POST_LAST_LB17\n",
      "AM_POST_LAST_LB10\n",
      "AM_POST_LAST_LB8\n",
      "DT_LAST_TERMIN\n",
      "IN_LAST_TERMIN\n",
      "AM_POST_LT\n",
      "AM_POST_TLP\n",
      "AM_POST_TLP9\n",
      "ID_LAST_PREG\n",
      "ID_M_BIRTHPLACE\n",
      "AM_TOT_PRENATAL\n",
      "IN_MALFORMATION\n",
      "RESERVED2\n",
      "IN_REPORT_FLAGS\n",
      "IN_OCCUR_FLAGS\n",
      "RESERVED3\n",
      "ID_ATTENDANT_NCHS\n",
      "AM_TERMINATION<20\n",
      "AM_TERMINATION>20\n",
      "AM_1MIN_APGAR\n",
      "AM_1MIN_APGAR5\n",
      "AM_5MIN_APGAR\n",
      "AM_5MIN_APGAR5\n",
      "ID_M_DESCENT\n",
      "ID_F_DESCENT\n",
      "IN_GEST_FLAG\n",
      "ID_RES_REGION\n",
      "ID_OCC_REGION\n",
      "ID_FIPS_OCC\n",
      "ID_WEIGHT_REC\n",
      "AM_PRENATAL28\n",
      "AM_PRENATAL12\n",
      "RESERVED4\n",
      "ID_STATE_OCC\n",
      "AM_POST_FULL_CON\n",
      "AM_LUNAR_MONTH_CON\n",
      "DT_CONCEPTION\n",
      "AM_POST_FULL_DOB\n",
      "AM_LUNAR_MONTH_DOB\n",
      "DT_DOB\n",
      "id\n",
      "State\n",
      "County\n",
      "County FIPS\n",
      "GHIAnnual\n",
      "nchs_state\n",
      "nchs_county\n",
      "year\n",
      "month\n",
      "month_year\n",
      "var_1\n",
      "dead_babies\n",
      "dead_babies_binary\n",
      "dv_black\n",
      "dv_white\n",
      "dv_other\n",
      "am_m_age_1\n",
      "am_m_age_2\n",
      "am_m_age_3\n",
      "am_m_age_4\n",
      "am_m_age_5\n",
      "am_m_age_6\n",
      "am_m_age_7\n",
      "am_f_age_1\n",
      "am_f_age_2\n",
      "am_f_age_3\n",
      "am_f_age_4\n",
      "am_f_age_5\n",
      "am_f_age_6\n",
      "am_f_age_7\n",
      "am_f_age_8\n",
      "am_f_age_9\n",
      "am_f_age_10\n",
      "am_f_age_11\n",
      "m_edu_1\n",
      "m_edu_2\n",
      "m_edu_3\n",
      "m_edu_4\n",
      "m_edu_5\n",
      "f_edu_1\n",
      "f_edu_2\n",
      "f_edu_3\n",
      "f_edu_4\n",
      "f_edu_5\n",
      "f_edu_6\n",
      "f_edu_7\n",
      "f_edu_8\n",
      "f_edu_9\n",
      "f_edu_10\n",
      "f_edu_11\n",
      "f_edu_12\n",
      "f_edu_13\n",
      "f_edu_14\n",
      "f_edu_15\n",
      "f_edu_16\n",
      "f_edu_17\n",
      "dv_birthweight\n"
     ]
    }
   ],
   "source": [
    "for key in df.keys():\n",
    "    print(key)"
   ]
  },
  {
   "cell_type": "code",
   "execution_count": 439,
   "id": "f92deae0",
   "metadata": {},
   "outputs": [
    {
     "data": {
      "text/plain": [
       "Text(0.5, 0, 'Birth Rate (grams)')"
      ]
     },
     "execution_count": 439,
     "metadata": {},
     "output_type": "execute_result"
    },
    {
     "data": {
      "image/png": "[encoded data removed]",
      "text/plain": [
       "<Figure size 432x288 with 1 Axes>"
      ]
     },
     "metadata": {
      "needs_background": "light"
     },
     "output_type": "display_data"
    }
   ],
   "source": [
    "plt.scatter(df['GHIAnnual'], df['AM_BIRTHWEIGHT'], s=[1/10000 for s in range(len(df['GHIAnnual']))])\n",
    "plt.xlabel('Sunlight')\n",
    "plt.xlabel('Birth Rate (grams)')"
   ]
  },
  {
   "cell_type": "code",
   "execution_count": null,
   "id": "f94b7e54",
   "metadata": {},
   "outputs": [],
   "source": []
  }
 ],
 "metadata": {
  "kernelspec": {
   "display_name": "Python 3 (ipykernel)",
   "language": "python",
   "name": "python3"
  },
  "language_info": {
   "codemirror_mode": {
    "name": "ipython",
    "version": 3
   },
   "file_extension": ".py",
   "mimetype": "text/x-python",
   "name": "python",
   "nbconvert_exporter": "python",
   "pygments_lexer": "ipython3",
   "version": "3.10.6"
  }
 },
 "nbformat": 4,
 "nbformat_minor": 5
}
